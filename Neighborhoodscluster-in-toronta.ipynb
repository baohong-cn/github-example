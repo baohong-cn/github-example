{
 "cells": [
  {
   "cell_type": "code",
   "execution_count": 16,
   "metadata": {},
   "outputs": [
    {
     "ename": "IndentationError",
     "evalue": "expected an indented block (<ipython-input-16-51989e514171>, line 21)",
     "output_type": "error",
     "traceback": [
      "\u001b[0;36m  File \u001b[0;32m\"<ipython-input-16-51989e514171>\"\u001b[0;36m, line \u001b[0;32m21\u001b[0m\n\u001b[0;31m    postal_code = table_cell.p.b.text # get the postal code\u001b[0m\n\u001b[0m                                                            ^\u001b[0m\n\u001b[0;31mIndentationError\u001b[0m\u001b[0;31m:\u001b[0m expected an indented block\n"
     ]
    }
   ],
   "source": [
    "# =============================================================================\n",
    "# Import libraries\n",
    "# =============================================================================\n",
    "\n",
    "import numpy as np \n",
    "import pandas as pd \n",
    "import requests\n",
    "from bs4 import BeautifulSoup\n",
    "\n",
    "# =============================================================================\n",
    "# Scrape from Wikipedia page: https://en.wikipedia.org/wiki/List_of_postal_codes_of_Canada:_M\n",
    "# =============================================================================\n",
    "#wikipedia_page = requests.get('https://en.wikipedia.org/wiki/List_of_postal_codes_of_Canada:_M')\n",
    "#soup = BeautifulSoup(wikipedia_page.content, 'lxml')\n",
    "source = requests.get('https://en.wikipedia.org/wiki/List_of_postal_codes_of_Canada:_M').text\n",
    "soup=BeautifulSoup(source, 'html5lib')\n",
    "postal_codes_dict = {} # initialize an empty dictionary to save the data in\n",
    "\n",
    "for table_cell in soup.find_all('td'):\n",
    "    try:\n",
    "postal_code = table_cell.p.b.text # get the postal code \n",
    "neighborhoods_data = table_cell.span.text # get the rest of the data in the cell\n",
    "borough = neighborhoods_data.split('(')[0] # get the borough in the cell\n",
    "    \n",
    "# if the cell is not assigned then ignore it\n",
    "if neighborhoods_data == 'Not assigned':\n",
    "    neighborhoods = []\n",
    "# else process the data and add it to the dictionary\n",
    "        else:\n",
    "            postal_codes_dict[postal_code] = {}\n"
   ]
  },
  {
   "cell_type": "code",
   "execution_count": null,
   "metadata": {},
   "outputs": [],
   "source": [
    "# import pandas as pd\n",
    "# import numpy as np\n",
    "# import requests\n",
    "# \n",
    "# from bs4 import BeautifulSoup\n",
    "# \n",
    "# \n",
    "# source = requests.get('https://en.wikipedia.org/wiki/List_of_postal_codes_of_Canada:_M').text\n",
    "# \n",
    "# soup = BeautifulSoup(source, 'html5lib')"
   ]
  }
 ],
 "metadata": {
  "kernelspec": {
   "display_name": "Python",
   "language": "python",
   "name": "conda-env-python-py"
  },
  "language_info": {
   "codemirror_mode": {
    "name": "ipython",
    "version": 3
   },
   "file_extension": ".py",
   "mimetype": "text/x-python",
   "name": "python",
   "nbconvert_exporter": "python",
   "pygments_lexer": "ipython3",
   "version": "3.6.7"
  }
 },
 "nbformat": 4,
 "nbformat_minor": 4
}
